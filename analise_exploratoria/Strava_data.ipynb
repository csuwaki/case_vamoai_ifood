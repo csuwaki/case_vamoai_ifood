{
  "nbformat": 4,
  "nbformat_minor": 0,
  "metadata": {
    "colab": {
      "name": "Strava - data",
      "provenance": [],
      "collapsed_sections": []
    },
    "kernelspec": {
      "name": "python3",
      "display_name": "Python 3"
    },
    "language_info": {
      "name": "python"
    }
  },
  "cells": [
    {
      "cell_type": "markdown",
      "metadata": {
        "id": "s30CZO8cfbKc"
      },
      "source": [
        "### Caroline Suwaki\n",
        "\n",
        "O objetivo deste projeto foi criar um dashboard no Tableau para exibir um storytelling com os dados. Os dados escolhidos foram as informações pessoais dos membros da equipe, sendo que as minhas foram obtidas do Strava, as do Demétrio Fragoso foram obtidas a partir do aplicativo Netflix e as do Ramon Brito foram obtidas via API  do Spotify. Neste notebook será desenvolvida a análise exploratória dos meus dados, que juntamente com os dados dos demais membros da equipe será utilizada para a construção de um dashboard no software Tableau.\n",
        "\n",
        "Os dados do Strava foram obtidos via API, mas como a requisição continha dados sensíveis, optei por iniciar um novo notebook a partir dos dados limpos e prontos para serem explorados.\n",
        "\n",
        "\n",
        "\n"
      ]
    },
    {
      "cell_type": "code",
      "metadata": {
        "id": "Q4sKcVGBfRgA"
      },
      "source": [
        "import pandas as pd"
      ],
      "execution_count": null,
      "outputs": []
    },
    {
      "cell_type": "code",
      "metadata": {
        "id": "mqjwhtQWfVRX"
      },
      "source": [
        "df = pd.read_csv('/content/drive/MyDrive/dados_colab/activities.csv')"
      ],
      "execution_count": null,
      "outputs": []
    },
    {
      "cell_type": "code",
      "metadata": {
        "colab": {
          "base_uri": "https://localhost:8080/"
        },
        "id": "J21Xw5o0fab0",
        "outputId": "d47229d4-d1c2-407d-858c-4537def2b520"
      },
      "source": [
        "df.info()"
      ],
      "execution_count": null,
      "outputs": [
        {
          "output_type": "stream",
          "text": [
            "<class 'pandas.core.frame.DataFrame'>\n",
            "RangeIndex: 95 entries, 0 to 94\n",
            "Data columns (total 18 columns):\n",
            " #   Column                Non-Null Count  Dtype  \n",
            "---  ------                --------------  -----  \n",
            " 0   Unnamed: 0            95 non-null     int64  \n",
            " 1   id                    95 non-null     int64  \n",
            " 2   type                  95 non-null     object \n",
            " 3   name                  95 non-null     object \n",
            " 4   distance              95 non-null     float64\n",
            " 5   moving_time           95 non-null     int64  \n",
            " 6   elapsed_time          95 non-null     int64  \n",
            " 7   total_elevation_gain  95 non-null     float64\n",
            " 8   start_date            95 non-null     object \n",
            " 9   start_latitude        89 non-null     float64\n",
            " 10  kilojoules            89 non-null     float64\n",
            " 11  start_longitude       89 non-null     float64\n",
            " 12  average_heartrate     0 non-null      float64\n",
            " 13  max_heartrate         0 non-null      float64\n",
            " 14  elev_high             89 non-null     float64\n",
            " 15  elev_low              89 non-null     float64\n",
            " 16  average_speed         95 non-null     float64\n",
            " 17  max_speed             95 non-null     float64\n",
            "dtypes: float64(11), int64(4), object(3)\n",
            "memory usage: 13.5+ KB\n"
          ],
          "name": "stdout"
        }
      ]
    },
    {
      "cell_type": "code",
      "metadata": {
        "colab": {
          "base_uri": "https://localhost:8080/",
          "height": 322
        },
        "id": "KR9-z2fQgf85",
        "outputId": "29b9d6cc-3868-4fe0-f12a-441eadef21a0"
      },
      "source": [
        "df.head()"
      ],
      "execution_count": null,
      "outputs": [
        {
          "output_type": "execute_result",
          "data": {
            "text/html": [
              "<div>\n",
              "<style scoped>\n",
              "    .dataframe tbody tr th:only-of-type {\n",
              "        vertical-align: middle;\n",
              "    }\n",
              "\n",
              "    .dataframe tbody tr th {\n",
              "        vertical-align: top;\n",
              "    }\n",
              "\n",
              "    .dataframe thead th {\n",
              "        text-align: right;\n",
              "    }\n",
              "</style>\n",
              "<table border=\"1\" class=\"dataframe\">\n",
              "  <thead>\n",
              "    <tr style=\"text-align: right;\">\n",
              "      <th></th>\n",
              "      <th>Unnamed: 0</th>\n",
              "      <th>id</th>\n",
              "      <th>type</th>\n",
              "      <th>name</th>\n",
              "      <th>distance</th>\n",
              "      <th>moving_time</th>\n",
              "      <th>elapsed_time</th>\n",
              "      <th>total_elevation_gain</th>\n",
              "      <th>start_date</th>\n",
              "      <th>start_latitude</th>\n",
              "      <th>kilojoules</th>\n",
              "      <th>start_longitude</th>\n",
              "      <th>average_heartrate</th>\n",
              "      <th>max_heartrate</th>\n",
              "      <th>elev_high</th>\n",
              "      <th>elev_low</th>\n",
              "      <th>average_speed</th>\n",
              "      <th>max_speed</th>\n",
              "    </tr>\n",
              "  </thead>\n",
              "  <tbody>\n",
              "    <tr>\n",
              "      <th>0</th>\n",
              "      <td>0</td>\n",
              "      <td>3060037208</td>\n",
              "      <td>Ride</td>\n",
              "      <td>IO</td>\n",
              "      <td>5148.8</td>\n",
              "      <td>1842</td>\n",
              "      <td>24934</td>\n",
              "      <td>129.9</td>\n",
              "      <td>2020-01-31T13:14:08Z</td>\n",
              "      <td>-23.576906</td>\n",
              "      <td>127.0</td>\n",
              "      <td>-46.729584</td>\n",
              "      <td>NaN</td>\n",
              "      <td>NaN</td>\n",
              "      <td>786.5</td>\n",
              "      <td>727.9</td>\n",
              "      <td>2.795</td>\n",
              "      <td>13.0</td>\n",
              "    </tr>\n",
              "    <tr>\n",
              "      <th>1</th>\n",
              "      <td>1</td>\n",
              "      <td>3054776687</td>\n",
              "      <td>Ride</td>\n",
              "      <td>Pedalada no almoço</td>\n",
              "      <td>8599.0</td>\n",
              "      <td>2539</td>\n",
              "      <td>20953</td>\n",
              "      <td>134.9</td>\n",
              "      <td>2020-01-29T15:06:13Z</td>\n",
              "      <td>-23.577650</td>\n",
              "      <td>160.1</td>\n",
              "      <td>-46.721893</td>\n",
              "      <td>NaN</td>\n",
              "      <td>NaN</td>\n",
              "      <td>786.5</td>\n",
              "      <td>725.2</td>\n",
              "      <td>3.387</td>\n",
              "      <td>9.1</td>\n",
              "    </tr>\n",
              "    <tr>\n",
              "      <th>2</th>\n",
              "      <td>2</td>\n",
              "      <td>3048076815</td>\n",
              "      <td>Ride</td>\n",
              "      <td>Um sol pra cada um</td>\n",
              "      <td>9736.9</td>\n",
              "      <td>2620</td>\n",
              "      <td>3149</td>\n",
              "      <td>120.9</td>\n",
              "      <td>2020-01-27T14:09:59Z</td>\n",
              "      <td>-23.549847</td>\n",
              "      <td>185.5</td>\n",
              "      <td>-46.654109</td>\n",
              "      <td>NaN</td>\n",
              "      <td>NaN</td>\n",
              "      <td>831.2</td>\n",
              "      <td>723.1</td>\n",
              "      <td>3.716</td>\n",
              "      <td>12.2</td>\n",
              "    </tr>\n",
              "    <tr>\n",
              "      <th>3</th>\n",
              "      <td>3</td>\n",
              "      <td>3046384815</td>\n",
              "      <td>Ride</td>\n",
              "      <td>paulistando</td>\n",
              "      <td>3835.4</td>\n",
              "      <td>1198</td>\n",
              "      <td>7232</td>\n",
              "      <td>103.4</td>\n",
              "      <td>2020-01-26T17:52:34Z</td>\n",
              "      <td>-23.550089</td>\n",
              "      <td>100.6</td>\n",
              "      <td>-46.653992</td>\n",
              "      <td>NaN</td>\n",
              "      <td>NaN</td>\n",
              "      <td>855.8</td>\n",
              "      <td>797.0</td>\n",
              "      <td>3.202</td>\n",
              "      <td>9.4</td>\n",
              "    </tr>\n",
              "    <tr>\n",
              "      <th>4</th>\n",
              "      <td>4</td>\n",
              "      <td>3037836336</td>\n",
              "      <td>Ride</td>\n",
              "      <td>Uma chuva inesperada</td>\n",
              "      <td>2576.3</td>\n",
              "      <td>703</td>\n",
              "      <td>734</td>\n",
              "      <td>7.6</td>\n",
              "      <td>2020-01-23T23:35:32Z</td>\n",
              "      <td>-23.576958</td>\n",
              "      <td>31.9</td>\n",
              "      <td>-46.729506</td>\n",
              "      <td>NaN</td>\n",
              "      <td>NaN</td>\n",
              "      <td>765.0</td>\n",
              "      <td>725.7</td>\n",
              "      <td>3.665</td>\n",
              "      <td>7.5</td>\n",
              "    </tr>\n",
              "  </tbody>\n",
              "</table>\n",
              "</div>"
            ],
            "text/plain": [
              "   Unnamed: 0          id  type  ... elev_low  average_speed  max_speed\n",
              "0           0  3060037208  Ride  ...    727.9          2.795       13.0\n",
              "1           1  3054776687  Ride  ...    725.2          3.387        9.1\n",
              "2           2  3048076815  Ride  ...    723.1          3.716       12.2\n",
              "3           3  3046384815  Ride  ...    797.0          3.202        9.4\n",
              "4           4  3037836336  Ride  ...    725.7          3.665        7.5\n",
              "\n",
              "[5 rows x 18 columns]"
            ]
          },
          "metadata": {
            "tags": []
          },
          "execution_count": 185
        }
      ]
    },
    {
      "cell_type": "code",
      "metadata": {
        "colab": {
          "base_uri": "https://localhost:8080/",
          "height": 456
        },
        "id": "v8Uvg_ivhg9N",
        "outputId": "a83b602d-d6cf-4382-cbab-25d260874b5f"
      },
      "source": [
        "df.tail()"
      ],
      "execution_count": null,
      "outputs": [
        {
          "output_type": "execute_result",
          "data": {
            "text/html": [
              "<div>\n",
              "<style scoped>\n",
              "    .dataframe tbody tr th:only-of-type {\n",
              "        vertical-align: middle;\n",
              "    }\n",
              "\n",
              "    .dataframe tbody tr th {\n",
              "        vertical-align: top;\n",
              "    }\n",
              "\n",
              "    .dataframe thead th {\n",
              "        text-align: right;\n",
              "    }\n",
              "</style>\n",
              "<table border=\"1\" class=\"dataframe\">\n",
              "  <thead>\n",
              "    <tr style=\"text-align: right;\">\n",
              "      <th></th>\n",
              "      <th>Unnamed: 0</th>\n",
              "      <th>id</th>\n",
              "      <th>type</th>\n",
              "      <th>name</th>\n",
              "      <th>distance</th>\n",
              "      <th>moving_time</th>\n",
              "      <th>elapsed_time</th>\n",
              "      <th>total_elevation_gain</th>\n",
              "      <th>start_date</th>\n",
              "      <th>start_latitude</th>\n",
              "      <th>kilojoules</th>\n",
              "      <th>start_longitude</th>\n",
              "      <th>average_heartrate</th>\n",
              "      <th>max_heartrate</th>\n",
              "      <th>elev_high</th>\n",
              "      <th>elev_low</th>\n",
              "      <th>average_speed</th>\n",
              "      <th>max_speed</th>\n",
              "    </tr>\n",
              "  </thead>\n",
              "  <tbody>\n",
              "    <tr>\n",
              "      <th>90</th>\n",
              "      <td>90</td>\n",
              "      <td>2180691080</td>\n",
              "      <td>Ride</td>\n",
              "      <td>Fugindo da chuva | Bloquinho surpresa | vespas.bg</td>\n",
              "      <td>17571.8</td>\n",
              "      <td>6197</td>\n",
              "      <td>9185</td>\n",
              "      <td>418.6</td>\n",
              "      <td>2019-02-27T23:46:11Z</td>\n",
              "      <td>-23.549815</td>\n",
              "      <td>488.1</td>\n",
              "      <td>-46.653984</td>\n",
              "      <td>NaN</td>\n",
              "      <td>NaN</td>\n",
              "      <td>852.1</td>\n",
              "      <td>748.0</td>\n",
              "      <td>2.836</td>\n",
              "      <td>15.0</td>\n",
              "    </tr>\n",
              "    <tr>\n",
              "      <th>91</th>\n",
              "      <td>91</td>\n",
              "      <td>2170385473</td>\n",
              "      <td>Ride</td>\n",
              "      <td>Voltando da Baguerinha não fui stravada</td>\n",
              "      <td>4700.0</td>\n",
              "      <td>1740</td>\n",
              "      <td>1740</td>\n",
              "      <td>0.0</td>\n",
              "      <td>2019-02-23T21:08:21Z</td>\n",
              "      <td>NaN</td>\n",
              "      <td>NaN</td>\n",
              "      <td>NaN</td>\n",
              "      <td>NaN</td>\n",
              "      <td>NaN</td>\n",
              "      <td>NaN</td>\n",
              "      <td>NaN</td>\n",
              "      <td>2.701</td>\n",
              "      <td>0.0</td>\n",
              "    </tr>\n",
              "    <tr>\n",
              "      <th>92</th>\n",
              "      <td>92</td>\n",
              "      <td>2168044489</td>\n",
              "      <td>Ride</td>\n",
              "      <td>Visitando a Baguerinha</td>\n",
              "      <td>4658.3</td>\n",
              "      <td>1721</td>\n",
              "      <td>2290</td>\n",
              "      <td>67.2</td>\n",
              "      <td>2019-02-22T23:52:56Z</td>\n",
              "      <td>-23.571258</td>\n",
              "      <td>102.2</td>\n",
              "      <td>-46.707946</td>\n",
              "      <td>NaN</td>\n",
              "      <td>NaN</td>\n",
              "      <td>778.8</td>\n",
              "      <td>726.3</td>\n",
              "      <td>2.707</td>\n",
              "      <td>8.3</td>\n",
              "    </tr>\n",
              "    <tr>\n",
              "      <th>93</th>\n",
              "      <td>93</td>\n",
              "      <td>2163958813</td>\n",
              "      <td>Ride</td>\n",
              "      <td>Finalmente funcionou essa merda | vespas bg</td>\n",
              "      <td>23193.6</td>\n",
              "      <td>5686</td>\n",
              "      <td>8741</td>\n",
              "      <td>505.1</td>\n",
              "      <td>2019-02-21T00:27:42Z</td>\n",
              "      <td>-23.556346</td>\n",
              "      <td>572.5</td>\n",
              "      <td>-46.662288</td>\n",
              "      <td>NaN</td>\n",
              "      <td>NaN</td>\n",
              "      <td>856.0</td>\n",
              "      <td>721.8</td>\n",
              "      <td>4.079</td>\n",
              "      <td>13.2</td>\n",
              "    </tr>\n",
              "    <tr>\n",
              "      <th>94</th>\n",
              "      <td>94</td>\n",
              "      <td>2158801655</td>\n",
              "      <td>Ride</td>\n",
              "      <td>Butantã x Consolação</td>\n",
              "      <td>14000.0</td>\n",
              "      <td>7200</td>\n",
              "      <td>7200</td>\n",
              "      <td>0.0</td>\n",
              "      <td>2019-02-17T17:00:29Z</td>\n",
              "      <td>NaN</td>\n",
              "      <td>NaN</td>\n",
              "      <td>NaN</td>\n",
              "      <td>NaN</td>\n",
              "      <td>NaN</td>\n",
              "      <td>NaN</td>\n",
              "      <td>NaN</td>\n",
              "      <td>1.944</td>\n",
              "      <td>0.0</td>\n",
              "    </tr>\n",
              "  </tbody>\n",
              "</table>\n",
              "</div>"
            ],
            "text/plain": [
              "    Unnamed: 0          id  type  ... elev_low  average_speed  max_speed\n",
              "90          90  2180691080  Ride  ...    748.0          2.836       15.0\n",
              "91          91  2170385473  Ride  ...      NaN          2.701        0.0\n",
              "92          92  2168044489  Ride  ...    726.3          2.707        8.3\n",
              "93          93  2163958813  Ride  ...    721.8          4.079       13.2\n",
              "94          94  2158801655  Ride  ...      NaN          1.944        0.0\n",
              "\n",
              "[5 rows x 18 columns]"
            ]
          },
          "metadata": {
            "tags": []
          },
          "execution_count": 186
        }
      ]
    },
    {
      "cell_type": "markdown",
      "metadata": {
        "id": "VicFX1P1lqM4"
      },
      "source": [
        "## Transformando start_date (object) pra datetime.\n"
      ]
    },
    {
      "cell_type": "code",
      "metadata": {
        "id": "eTVnBCn2i2yq"
      },
      "source": [
        "df[\"start_date\"]= pd.to_datetime(df[\"start_date\"])"
      ],
      "execution_count": null,
      "outputs": []
    },
    {
      "cell_type": "code",
      "metadata": {
        "colab": {
          "base_uri": "https://localhost:8080/"
        },
        "id": "3caHjDKRjL-J",
        "outputId": "05b3c580-fada-48fb-b7e7-558834ed2081"
      },
      "source": [
        "df.info()"
      ],
      "execution_count": null,
      "outputs": [
        {
          "output_type": "stream",
          "text": [
            "<class 'pandas.core.frame.DataFrame'>\n",
            "RangeIndex: 95 entries, 0 to 94\n",
            "Data columns (total 18 columns):\n",
            " #   Column                Non-Null Count  Dtype              \n",
            "---  ------                --------------  -----              \n",
            " 0   Unnamed: 0            95 non-null     int64              \n",
            " 1   id                    95 non-null     int64              \n",
            " 2   type                  95 non-null     object             \n",
            " 3   name                  95 non-null     object             \n",
            " 4   distance              95 non-null     float64            \n",
            " 5   moving_time           95 non-null     int64              \n",
            " 6   elapsed_time          95 non-null     int64              \n",
            " 7   total_elevation_gain  95 non-null     float64            \n",
            " 8   start_date            95 non-null     datetime64[ns, UTC]\n",
            " 9   start_latitude        89 non-null     float64            \n",
            " 10  kilojoules            89 non-null     float64            \n",
            " 11  start_longitude       89 non-null     float64            \n",
            " 12  average_heartrate     0 non-null      float64            \n",
            " 13  max_heartrate         0 non-null      float64            \n",
            " 14  elev_high             89 non-null     float64            \n",
            " 15  elev_low              89 non-null     float64            \n",
            " 16  average_speed         95 non-null     float64            \n",
            " 17  max_speed             95 non-null     float64            \n",
            "dtypes: datetime64[ns, UTC](1), float64(11), int64(4), object(2)\n",
            "memory usage: 13.5+ KB\n"
          ],
          "name": "stdout"
        }
      ]
    },
    {
      "cell_type": "markdown",
      "metadata": {
        "id": "V2VQe_DKl7xD"
      },
      "source": [
        "## Transformando a distância (metros) em km."
      ]
    },
    {
      "cell_type": "code",
      "metadata": {
        "id": "84hEptpjh_Oi"
      },
      "source": [
        "df['distance'] = df['distance']/1000 "
      ],
      "execution_count": null,
      "outputs": []
    },
    {
      "cell_type": "markdown",
      "metadata": {
        "id": "xM6wAdgjmAuX"
      },
      "source": [
        "## Separando dia-mes-ano."
      ]
    },
    {
      "cell_type": "code",
      "metadata": {
        "id": "QmomDmpulfKP"
      },
      "source": [
        "df['month'] = df['start_date'].dt.month\n",
        "df['day'] = df['start_date'].dt.day\n",
        "df['hour'] = df['start_date'].dt.hour\n",
        "df['day_name'] = df['start_date'].apply(lambda x: x.day_name()) "
      ],
      "execution_count": null,
      "outputs": []
    },
    {
      "cell_type": "code",
      "metadata": {
        "colab": {
          "base_uri": "https://localhost:8080/"
        },
        "id": "GmpZ3KKalpLS",
        "outputId": "441c60bb-b477-4ad1-f9b0-78e2ed4514a0"
      },
      "source": [
        "df.info()"
      ],
      "execution_count": null,
      "outputs": [
        {
          "output_type": "stream",
          "text": [
            "<class 'pandas.core.frame.DataFrame'>\n",
            "RangeIndex: 95 entries, 0 to 94\n",
            "Data columns (total 22 columns):\n",
            " #   Column                Non-Null Count  Dtype              \n",
            "---  ------                --------------  -----              \n",
            " 0   Unnamed: 0            95 non-null     int64              \n",
            " 1   id                    95 non-null     int64              \n",
            " 2   type                  95 non-null     object             \n",
            " 3   name                  95 non-null     object             \n",
            " 4   distance              95 non-null     float64            \n",
            " 5   moving_time           95 non-null     int64              \n",
            " 6   elapsed_time          95 non-null     int64              \n",
            " 7   total_elevation_gain  95 non-null     float64            \n",
            " 8   start_date            95 non-null     datetime64[ns, UTC]\n",
            " 9   start_latitude        89 non-null     float64            \n",
            " 10  kilojoules            89 non-null     float64            \n",
            " 11  start_longitude       89 non-null     float64            \n",
            " 12  average_heartrate     0 non-null      float64            \n",
            " 13  max_heartrate         0 non-null      float64            \n",
            " 14  elev_high             89 non-null     float64            \n",
            " 15  elev_low              89 non-null     float64            \n",
            " 16  average_speed         95 non-null     float64            \n",
            " 17  max_speed             95 non-null     float64            \n",
            " 18  month                 95 non-null     int64              \n",
            " 19  day                   95 non-null     int64              \n",
            " 20  hour                  95 non-null     int64              \n",
            " 21  day_name              95 non-null     object             \n",
            "dtypes: datetime64[ns, UTC](1), float64(11), int64(7), object(3)\n",
            "memory usage: 16.5+ KB\n"
          ],
          "name": "stdout"
        }
      ]
    },
    {
      "cell_type": "markdown",
      "metadata": {
        "id": "lfncWu3UmHIy"
      },
      "source": [
        "## Separando horas de datas."
      ]
    },
    {
      "cell_type": "code",
      "metadata": {
        "colab": {
          "base_uri": "https://localhost:8080/"
        },
        "id": "HovV1RmsihxJ",
        "outputId": "3f236c2d-f153-438f-c8b9-6cb2b446857c"
      },
      "source": [
        "df['just_date'] = df['start_date'].dt.date\n",
        "df['just_date'] "
      ],
      "execution_count": null,
      "outputs": [
        {
          "output_type": "execute_result",
          "data": {
            "text/plain": [
              "0     2020-01-31\n",
              "1     2020-01-29\n",
              "2     2020-01-27\n",
              "3     2020-01-26\n",
              "4     2020-01-23\n",
              "         ...    \n",
              "90    2019-02-27\n",
              "91    2019-02-23\n",
              "92    2019-02-22\n",
              "93    2019-02-21\n",
              "94    2019-02-17\n",
              "Name: just_date, Length: 95, dtype: object"
            ]
          },
          "metadata": {
            "tags": []
          },
          "execution_count": 192
        }
      ]
    },
    {
      "cell_type": "markdown",
      "metadata": {
        "id": "5AYRWkHomNGv"
      },
      "source": [
        "## Transformando just_date (obj) pra data e setando como index."
      ]
    },
    {
      "cell_type": "code",
      "metadata": {
        "id": "2fysK4hkkjoR"
      },
      "source": [
        "df[\"just_date\"]= pd.to_datetime(df[\"just_date\"]) "
      ],
      "execution_count": null,
      "outputs": []
    },
    {
      "cell_type": "code",
      "metadata": {
        "colab": {
          "base_uri": "https://localhost:8080/"
        },
        "id": "nSnvmwWwk224",
        "outputId": "232f8a62-fa9c-4c16-db6c-e182ff186b75"
      },
      "source": [
        "df.set_index('just_date', inplace=True)\n",
        "df.info()"
      ],
      "execution_count": null,
      "outputs": [
        {
          "output_type": "stream",
          "text": [
            "<class 'pandas.core.frame.DataFrame'>\n",
            "DatetimeIndex: 95 entries, 2020-01-31 to 2019-02-17\n",
            "Data columns (total 22 columns):\n",
            " #   Column                Non-Null Count  Dtype              \n",
            "---  ------                --------------  -----              \n",
            " 0   Unnamed: 0            95 non-null     int64              \n",
            " 1   id                    95 non-null     int64              \n",
            " 2   type                  95 non-null     object             \n",
            " 3   name                  95 non-null     object             \n",
            " 4   distance              95 non-null     float64            \n",
            " 5   moving_time           95 non-null     int64              \n",
            " 6   elapsed_time          95 non-null     int64              \n",
            " 7   total_elevation_gain  95 non-null     float64            \n",
            " 8   start_date            95 non-null     datetime64[ns, UTC]\n",
            " 9   start_latitude        89 non-null     float64            \n",
            " 10  kilojoules            89 non-null     float64            \n",
            " 11  start_longitude       89 non-null     float64            \n",
            " 12  average_heartrate     0 non-null      float64            \n",
            " 13  max_heartrate         0 non-null      float64            \n",
            " 14  elev_high             89 non-null     float64            \n",
            " 15  elev_low              89 non-null     float64            \n",
            " 16  average_speed         95 non-null     float64            \n",
            " 17  max_speed             95 non-null     float64            \n",
            " 18  month                 95 non-null     int64              \n",
            " 19  day                   95 non-null     int64              \n",
            " 20  hour                  95 non-null     int64              \n",
            " 21  day_name              95 non-null     object             \n",
            "dtypes: datetime64[ns, UTC](1), float64(11), int64(7), object(3)\n",
            "memory usage: 17.1+ KB\n"
          ],
          "name": "stdout"
        }
      ]
    },
    {
      "cell_type": "markdown",
      "metadata": {
        "id": "d8KEbcq-mUXX"
      },
      "source": [
        " ## Analisando os dias da semana com mais atividades."
      ]
    },
    {
      "cell_type": "code",
      "metadata": {
        "id": "8f6vqgy4la8o"
      },
      "source": [
        "dias = df.groupby(['day_name'])['id'].count() "
      ],
      "execution_count": null,
      "outputs": []
    },
    {
      "cell_type": "code",
      "metadata": {
        "colab": {
          "base_uri": "https://localhost:8080/"
        },
        "id": "TUh6jTV1qVVl",
        "outputId": "2b3f22c8-fc83-4695-b5db-90c7f45795c0"
      },
      "source": [
        "dias.rename(index={'Monday':'Segunda', 'Tuesday': 'Terça', 'Wednesday': 'Quarta', 'Thursday': 'Quinta', 'Friday': 'Sexta', 'Saturday': 'Sábado', 'Sunday':'Domingo'}, inplace = True)\n",
        "dias"
      ],
      "execution_count": null,
      "outputs": [
        {
          "output_type": "execute_result",
          "data": {
            "text/plain": [
              "day_name\n",
              "Sexta      10\n",
              "Segunda    14\n",
              "Sábado      6\n",
              "Domingo    10\n",
              "Quinta     18\n",
              "Terça      16\n",
              "Quarta     21\n",
              "Name: id, dtype: int64"
            ]
          },
          "metadata": {
            "tags": []
          },
          "execution_count": 196
        }
      ]
    },
    {
      "cell_type": "code",
      "metadata": {
        "colab": {
          "base_uri": "https://localhost:8080/",
          "height": 280
        },
        "id": "QkjJfY4VmjeJ",
        "outputId": "55c4d252-0b05-4562-dc86-ba1f85943af6"
      },
      "source": [
        "dias.plot(kind='bar', rot=0); "
      ],
      "execution_count": null,
      "outputs": [
        {
          "output_type": "display_data",
          "data": {
            "image/png": "[encoded data removed]",
            "text/plain": [
              "<Figure size 432x288 with 1 Axes>"
            ]
          },
          "metadata": {
            "tags": [],
            "needs_background": "light"
          }
        }
      ]
    },
    {
      "cell_type": "markdown",
      "metadata": {
        "id": "BStUCemqmfNu"
      },
      "source": [
        "## Ganho de elevaçao total (em m) e por mês."
      ]
    },
    {
      "cell_type": "code",
      "metadata": {
        "colab": {
          "base_uri": "https://localhost:8080/"
        },
        "id": "vk_IUNnYo5cN",
        "outputId": "ca66dd45-3782-40d3-9820-564d8d5618e1"
      },
      "source": [
        "elevacao = df.groupby(['month'])['total_elevation_gain'].sum() \n",
        "elevacao"
      ],
      "execution_count": null,
      "outputs": [
        {
          "output_type": "execute_result",
          "data": {
            "text/plain": [
              "month\n",
              "1    2177.1\n",
              "2     990.9\n",
              "3    1839.6\n",
              "4    3369.0\n",
              "5    2974.0\n",
              "6    4110.9\n",
              "7    1438.5\n",
              "8     823.7\n",
              "Name: total_elevation_gain, dtype: float64"
            ]
          },
          "metadata": {
            "tags": []
          },
          "execution_count": 198
        }
      ]
    },
    {
      "cell_type": "code",
      "metadata": {
        "colab": {
          "base_uri": "https://localhost:8080/"
        },
        "id": "-WzZ9asVthAR",
        "outputId": "3c290cce-6878-4d0f-bfff-4183281b762a"
      },
      "source": [
        "elevacao.rename(index={2: 'Fevereiro', 3: 'Março', 4: 'Abril', 5: 'Maio', 6: 'Junho', 7:'Julho', 8: 'Agosto', 1:'Janeiro'}, inplace = True)\n",
        "elevacao"
      ],
      "execution_count": null,
      "outputs": [
        {
          "output_type": "execute_result",
          "data": {
            "text/plain": [
              "month\n",
              "Janeiro      2177.1\n",
              "Fevereiro     990.9\n",
              "Março        1839.6\n",
              "Abril        3369.0\n",
              "Maio         2974.0\n",
              "Junho        4110.9\n",
              "Julho        1438.5\n",
              "Agosto        823.7\n",
              "Name: total_elevation_gain, dtype: float64"
            ]
          },
          "metadata": {
            "tags": []
          },
          "execution_count": 199
        }
      ]
    },
    {
      "cell_type": "code",
      "metadata": {
        "colab": {
          "base_uri": "https://localhost:8080/",
          "height": 279
        },
        "id": "43o7hlheuN2i",
        "outputId": "6921078e-51cc-4a30-e0a3-5b857b905c62"
      },
      "source": [
        "ax = elevacao.plot.area() #ganho total de elevação por mês\n",
        "ax;"
      ],
      "execution_count": null,
      "outputs": [
        {
          "output_type": "display_data",
          "data": {
            "image/png": "[encoded data removed]",
            "text/plain": [
              "<Figure size 432x288 with 1 Axes>"
            ]
          },
          "metadata": {
            "tags": [],
            "needs_background": "light"
          }
        }
      ]
    },
    {
      "cell_type": "code",
      "metadata": {
        "colab": {
          "base_uri": "https://localhost:8080/",
          "height": 354
        },
        "id": "Y9VLU-pGyPuf",
        "outputId": "7a924de7-c76f-4262-9998-5449c1dcaf56"
      },
      "source": [
        "df.head()"
      ],
      "execution_count": null,
      "outputs": [
        {
          "output_type": "execute_result",
          "data": {
            "text/html": [
              "<div>\n",
              "<style scoped>\n",
              "    .dataframe tbody tr th:only-of-type {\n",
              "        vertical-align: middle;\n",
              "    }\n",
              "\n",
              "    .dataframe tbody tr th {\n",
              "        vertical-align: top;\n",
              "    }\n",
              "\n",
              "    .dataframe thead th {\n",
              "        text-align: right;\n",
              "    }\n",
              "</style>\n",
              "<table border=\"1\" class=\"dataframe\">\n",
              "  <thead>\n",
              "    <tr style=\"text-align: right;\">\n",
              "      <th></th>\n",
              "      <th>Unnamed: 0</th>\n",
              "      <th>id</th>\n",
              "      <th>type</th>\n",
              "      <th>name</th>\n",
              "      <th>distance</th>\n",
              "      <th>moving_time</th>\n",
              "      <th>elapsed_time</th>\n",
              "      <th>total_elevation_gain</th>\n",
              "      <th>start_date</th>\n",
              "      <th>start_latitude</th>\n",
              "      <th>kilojoules</th>\n",
              "      <th>start_longitude</th>\n",
              "      <th>average_heartrate</th>\n",
              "      <th>max_heartrate</th>\n",
              "      <th>elev_high</th>\n",
              "      <th>elev_low</th>\n",
              "      <th>average_speed</th>\n",
              "      <th>max_speed</th>\n",
              "      <th>month</th>\n",
              "      <th>day</th>\n",
              "      <th>hour</th>\n",
              "      <th>day_name</th>\n",
              "    </tr>\n",
              "    <tr>\n",
              "      <th>just_date</th>\n",
              "      <th></th>\n",
              "      <th></th>\n",
              "      <th></th>\n",
              "      <th></th>\n",
              "      <th></th>\n",
              "      <th></th>\n",
              "      <th></th>\n",
              "      <th></th>\n",
              "      <th></th>\n",
              "      <th></th>\n",
              "      <th></th>\n",
              "      <th></th>\n",
              "      <th></th>\n",
              "      <th></th>\n",
              "      <th></th>\n",
              "      <th></th>\n",
              "      <th></th>\n",
              "      <th></th>\n",
              "      <th></th>\n",
              "      <th></th>\n",
              "      <th></th>\n",
              "      <th></th>\n",
              "    </tr>\n",
              "  </thead>\n",
              "  <tbody>\n",
              "    <tr>\n",
              "      <th>2020-01-31</th>\n",
              "      <td>0</td>\n",
              "      <td>3060037208</td>\n",
              "      <td>Ride</td>\n",
              "      <td>IO</td>\n",
              "      <td>5.1488</td>\n",
              "      <td>1842</td>\n",
              "      <td>24934</td>\n",
              "      <td>129.9</td>\n",
              "      <td>2020-01-31 13:14:08+00:00</td>\n",
              "      <td>-23.576906</td>\n",
              "      <td>127.0</td>\n",
              "      <td>-46.729584</td>\n",
              "      <td>NaN</td>\n",
              "      <td>NaN</td>\n",
              "      <td>786.5</td>\n",
              "      <td>727.9</td>\n",
              "      <td>2.795</td>\n",
              "      <td>13.0</td>\n",
              "      <td>1</td>\n",
              "      <td>31</td>\n",
              "      <td>13</td>\n",
              "      <td>Friday</td>\n",
              "    </tr>\n",
              "    <tr>\n",
              "      <th>2020-01-29</th>\n",
              "      <td>1</td>\n",
              "      <td>3054776687</td>\n",
              "      <td>Ride</td>\n",
              "      <td>Pedalada no almoço</td>\n",
              "      <td>8.5990</td>\n",
              "      <td>2539</td>\n",
              "      <td>20953</td>\n",
              "      <td>134.9</td>\n",
              "      <td>2020-01-29 15:06:13+00:00</td>\n",
              "      <td>-23.577650</td>\n",
              "      <td>160.1</td>\n",
              "      <td>-46.721893</td>\n",
              "      <td>NaN</td>\n",
              "      <td>NaN</td>\n",
              "      <td>786.5</td>\n",
              "      <td>725.2</td>\n",
              "      <td>3.387</td>\n",
              "      <td>9.1</td>\n",
              "      <td>1</td>\n",
              "      <td>29</td>\n",
              "      <td>15</td>\n",
              "      <td>Wednesday</td>\n",
              "    </tr>\n",
              "    <tr>\n",
              "      <th>2020-01-27</th>\n",
              "      <td>2</td>\n",
              "      <td>3048076815</td>\n",
              "      <td>Ride</td>\n",
              "      <td>Um sol pra cada um</td>\n",
              "      <td>9.7369</td>\n",
              "      <td>2620</td>\n",
              "      <td>3149</td>\n",
              "      <td>120.9</td>\n",
              "      <td>2020-01-27 14:09:59+00:00</td>\n",
              "      <td>-23.549847</td>\n",
              "      <td>185.5</td>\n",
              "      <td>-46.654109</td>\n",
              "      <td>NaN</td>\n",
              "      <td>NaN</td>\n",
              "      <td>831.2</td>\n",
              "      <td>723.1</td>\n",
              "      <td>3.716</td>\n",
              "      <td>12.2</td>\n",
              "      <td>1</td>\n",
              "      <td>27</td>\n",
              "      <td>14</td>\n",
              "      <td>Monday</td>\n",
              "    </tr>\n",
              "    <tr>\n",
              "      <th>2020-01-26</th>\n",
              "      <td>3</td>\n",
              "      <td>3046384815</td>\n",
              "      <td>Ride</td>\n",
              "      <td>paulistando</td>\n",
              "      <td>3.8354</td>\n",
              "      <td>1198</td>\n",
              "      <td>7232</td>\n",
              "      <td>103.4</td>\n",
              "      <td>2020-01-26 17:52:34+00:00</td>\n",
              "      <td>-23.550089</td>\n",
              "      <td>100.6</td>\n",
              "      <td>-46.653992</td>\n",
              "      <td>NaN</td>\n",
              "      <td>NaN</td>\n",
              "      <td>855.8</td>\n",
              "      <td>797.0</td>\n",
              "      <td>3.202</td>\n",
              "      <td>9.4</td>\n",
              "      <td>1</td>\n",
              "      <td>26</td>\n",
              "      <td>17</td>\n",
              "      <td>Sunday</td>\n",
              "    </tr>\n",
              "    <tr>\n",
              "      <th>2020-01-23</th>\n",
              "      <td>4</td>\n",
              "      <td>3037836336</td>\n",
              "      <td>Ride</td>\n",
              "      <td>Uma chuva inesperada</td>\n",
              "      <td>2.5763</td>\n",
              "      <td>703</td>\n",
              "      <td>734</td>\n",
              "      <td>7.6</td>\n",
              "      <td>2020-01-23 23:35:32+00:00</td>\n",
              "      <td>-23.576958</td>\n",
              "      <td>31.9</td>\n",
              "      <td>-46.729506</td>\n",
              "      <td>NaN</td>\n",
              "      <td>NaN</td>\n",
              "      <td>765.0</td>\n",
              "      <td>725.7</td>\n",
              "      <td>3.665</td>\n",
              "      <td>7.5</td>\n",
              "      <td>1</td>\n",
              "      <td>23</td>\n",
              "      <td>23</td>\n",
              "      <td>Thursday</td>\n",
              "    </tr>\n",
              "  </tbody>\n",
              "</table>\n",
              "</div>"
            ],
            "text/plain": [
              "            Unnamed: 0          id  type  ... day  hour   day_name\n",
              "just_date                                 ...                     \n",
              "2020-01-31           0  3060037208  Ride  ...  31    13     Friday\n",
              "2020-01-29           1  3054776687  Ride  ...  29    15  Wednesday\n",
              "2020-01-27           2  3048076815  Ride  ...  27    14     Monday\n",
              "2020-01-26           3  3046384815  Ride  ...  26    17     Sunday\n",
              "2020-01-23           4  3037836336  Ride  ...  23    23   Thursday\n",
              "\n",
              "[5 rows x 22 columns]"
            ]
          },
          "metadata": {
            "tags": []
          },
          "execution_count": 201
        }
      ]
    },
    {
      "cell_type": "markdown",
      "metadata": {
        "id": "mXN1_R2Omu1H"
      },
      "source": [
        "## Tempo pedalado por mês (contando as paradas)."
      ]
    },
    {
      "cell_type": "code",
      "metadata": {
        "id": "ItfOW46S1Vsr"
      },
      "source": [
        "df['elapsed_time'] = df['elapsed_time'].astype('float64')\n",
        "\n",
        "df['elapsed_time'] = pd.to_datetime(df[\"elapsed_time\"], unit='s').dt.strftime(\"%H:%M:%S\") #transformando tempo em dd:hh:mm:ss"
      ],
      "execution_count": null,
      "outputs": []
    },
    {
      "cell_type": "code",
      "metadata": {
        "id": "mzEp0rWE3HjZ"
      },
      "source": [
        "df['elapsed_time'] = pd.to_timedelta(df.elapsed_time)\n",
        "\n",
        "tempo_pedalado_por_mes = df.groupby(['month']).elapsed_time.sum()"
      ],
      "execution_count": null,
      "outputs": []
    },
    {
      "cell_type": "code",
      "metadata": {
        "colab": {
          "base_uri": "https://localhost:8080/"
        },
        "id": "bmsyY_cy4x7B",
        "outputId": "91e418a2-42e0-440f-9ece-a813940db96c"
      },
      "source": [
        "tempo_pedalado_por_mes.rename(index={2: 'Fevereiro', 3: 'Março', 4: 'Abril', 5: 'Maio', 6: 'Junho', 7:'Julho', 8: 'Agosto', 1:'Janeiro'}, inplace = True)\n",
        "tempo_pedalado_por_mes"
      ],
      "execution_count": null,
      "outputs": [
        {
          "output_type": "execute_result",
          "data": {
            "text/plain": [
              "month\n",
              "Janeiro     1 days 14:37:19\n",
              "Fevereiro   0 days 08:05:56\n",
              "Março       0 days 16:27:41\n",
              "Abril       4 days 22:34:35\n",
              "Maio        3 days 15:08:17\n",
              "Junho       4 days 02:27:10\n",
              "Julho       1 days 20:16:45\n",
              "Agosto      0 days 08:20:10\n",
              "Name: elapsed_time, dtype: timedelta64[ns]"
            ]
          },
          "metadata": {
            "tags": []
          },
          "execution_count": 204
        }
      ]
    },
    {
      "cell_type": "code",
      "metadata": {
        "colab": {
          "base_uri": "https://localhost:8080/"
        },
        "id": "-cR3xMkH6Gfh",
        "outputId": "f89ad9d5-f292-4129-acf5-5d16dbc2da52"
      },
      "source": [
        "print(df.elapsed_time.max()) #pedalada maior tempo.\n"
      ],
      "execution_count": null,
      "outputs": [
        {
          "output_type": "stream",
          "text": [
            "0 days 14:05:57\n"
          ],
          "name": "stdout"
        }
      ]
    },
    {
      "cell_type": "code",
      "metadata": {
        "colab": {
          "base_uri": "https://localhost:8080/"
        },
        "id": "WrryNvNpD5o-",
        "outputId": "cc97c37a-1d97-4f76-a592-a63da92a4cf8"
      },
      "source": [
        "print(df.elapsed_time.sum()) #soma total das pedaladas (incluindo paradas)."
      ],
      "execution_count": null,
      "outputs": [
        {
          "output_type": "stream",
          "text": [
            "17 days 11:57:53\n"
          ],
          "name": "stdout"
        }
      ]
    },
    {
      "cell_type": "markdown",
      "metadata": {
        "id": "YadPvxuim1U-"
      },
      "source": [
        "## Tempo pedalado por mês (apenas o período em movimento)."
      ]
    },
    {
      "cell_type": "code",
      "metadata": {
        "id": "qVvePGqj5JA6"
      },
      "source": [
        "df['moving_time'] = df['moving_time'].astype('float64') \n",
        "\n",
        "df['moving_time'] = pd.to_datetime(df[\"moving_time\"], unit='s').dt.strftime(\"%H:%M:%S\") #transformando tempo em hh:mm:ss"
      ],
      "execution_count": null,
      "outputs": []
    },
    {
      "cell_type": "code",
      "metadata": {
        "id": "_pWd520P5WrF"
      },
      "source": [
        "df['moving_time'] = pd.to_timedelta(df.moving_time)\n",
        "\n",
        "tempo_mov_por_mes = df.groupby(['month']).moving_time.sum()"
      ],
      "execution_count": null,
      "outputs": []
    },
    {
      "cell_type": "code",
      "metadata": {
        "colab": {
          "base_uri": "https://localhost:8080/"
        },
        "id": "T_KOZrcB5Q-g",
        "outputId": "cee4d052-b370-483c-94a0-7ff4926c6470"
      },
      "source": [
        "tempo_mov_por_mes.rename(index={2: 'Fevereiro', 3: 'Março', 4: 'Abril', 5: 'Maio', 6: 'Junho', 7:'Julho', 8: 'Agosto', 1:'Janeiro'}, inplace = True)\n",
        "tempo_mov_por_mes"
      ],
      "execution_count": null,
      "outputs": [
        {
          "output_type": "execute_result",
          "data": {
            "text/plain": [
              "month\n",
              "Janeiro     0 days 12:56:01\n",
              "Fevereiro   0 days 06:15:44\n",
              "Março       0 days 08:06:38\n",
              "Abril       0 days 14:36:35\n",
              "Maio        0 days 14:18:55\n",
              "Junho       0 days 19:27:12\n",
              "Julho       0 days 06:53:53\n",
              "Agosto      0 days 03:31:23\n",
              "Name: moving_time, dtype: timedelta64[ns]"
            ]
          },
          "metadata": {
            "tags": []
          },
          "execution_count": 209
        }
      ]
    },
    {
      "cell_type": "code",
      "metadata": {
        "colab": {
          "base_uri": "https://localhost:8080/"
        },
        "id": "I4gI14LW5oDh",
        "outputId": "5934d7b7-80b2-45f8-a41a-ca8c20f9b270"
      },
      "source": [
        "print(df.moving_time.max()) #maior tempo em movimentação"
      ],
      "execution_count": null,
      "outputs": [
        {
          "output_type": "stream",
          "text": [
            "0 days 05:16:26\n"
          ],
          "name": "stdout"
        }
      ]
    },
    {
      "cell_type": "code",
      "metadata": {
        "colab": {
          "base_uri": "https://localhost:8080/"
        },
        "id": "DfJfgDE1EFMP",
        "outputId": "d3d1d932-7e32-46f1-8fb7-f037d07f2113"
      },
      "source": [
        "print(df.moving_time.sum()) #tempo total em movimento"
      ],
      "execution_count": null,
      "outputs": [
        {
          "output_type": "stream",
          "text": [
            "3 days 14:06:21\n"
          ],
          "name": "stdout"
        }
      ]
    },
    {
      "cell_type": "markdown",
      "metadata": {
        "id": "zcYT_9L4nBKG"
      },
      "source": [
        "## Distância (km) pedalada por mês."
      ]
    },
    {
      "cell_type": "code",
      "metadata": {
        "colab": {
          "base_uri": "https://localhost:8080/",
          "height": 379
        },
        "id": "xaPGvUjBhi-N",
        "outputId": "a905b6c4-bf6e-45d3-ceec-cfafbc981364"
      },
      "source": [
        "df['distance'].plot(style=['b-'], figsize=(15,6));"
      ],
      "execution_count": null,
      "outputs": [
        {
          "output_type": "display_data",
          "data": {
            "image/png": "[encoded data removed]",
            "text/plain": [
              "<Figure size 1080x432 with 1 Axes>"
            ]
          },
          "metadata": {
            "tags": [],
            "needs_background": "light"
          }
        }
      ]
    },
    {
      "cell_type": "markdown",
      "metadata": {
        "id": "ge5X8c4RnI6J"
      },
      "source": [
        "## Distância máxima (km) percorrida em um dia"
      ]
    },
    {
      "cell_type": "code",
      "metadata": {
        "colab": {
          "base_uri": "https://localhost:8080/"
        },
        "id": "_44MOxtjh57Q",
        "outputId": "79378ea3-4095-49ee-cd2b-f691f470adac"
      },
      "source": [
        "dist_max = df['distance'].max() \n",
        "round(dist_max)"
      ],
      "execution_count": null,
      "outputs": [
        {
          "output_type": "execute_result",
          "data": {
            "text/plain": [
              "77"
            ]
          },
          "metadata": {
            "tags": []
          },
          "execution_count": 243
        }
      ]
    },
    {
      "cell_type": "markdown",
      "metadata": {
        "id": "PfrMmPghnOv-"
      },
      "source": [
        "## Distância mínima (km) percorrida em um dia"
      ]
    },
    {
      "cell_type": "code",
      "metadata": {
        "colab": {
          "base_uri": "https://localhost:8080/"
        },
        "id": "JjjRPA9DNxZW",
        "outputId": "74d694a1-497f-4a28-cae1-551d8284d873"
      },
      "source": [
        "dis_min  = df['distance'].min() #Distância mínima (km) percorrida em um dia \n",
        "dis_min"
      ],
      "execution_count": null,
      "outputs": [
        {
          "output_type": "execute_result",
          "data": {
            "text/plain": [
              "1.1607"
            ]
          },
          "metadata": {
            "tags": []
          },
          "execution_count": 264
        }
      ]
    },
    {
      "cell_type": "markdown",
      "metadata": {
        "id": "2EDIUZ7TnWkf"
      },
      "source": [
        "## Transformando kilojoules em calorias."
      ]
    },
    {
      "cell_type": "code",
      "metadata": {
        "colab": {
          "base_uri": "https://localhost:8080/"
        },
        "id": "PqPY154u5nAH",
        "outputId": "c75b1f2e-21f2-4dfb-9c98-1091710cbbc6"
      },
      "source": [
        "df['kilojoules']= df['kilojoules']/4.19\n",
        "df['kilojoules'] "
      ],
      "execution_count": null,
      "outputs": [
        {
          "output_type": "execute_result",
          "data": {
            "text/plain": [
              "just_date\n",
              "2020-01-31     30.310263\n",
              "2020-01-29     38.210024\n",
              "2020-01-27     44.272076\n",
              "2020-01-26     24.009547\n",
              "2020-01-23      7.613365\n",
              "                 ...    \n",
              "2019-02-27    116.491647\n",
              "2019-02-23           NaN\n",
              "2019-02-22     24.391408\n",
              "2019-02-21    136.634845\n",
              "2019-02-17           NaN\n",
              "Name: kilojoules, Length: 95, dtype: float64"
            ]
          },
          "metadata": {
            "tags": []
          },
          "execution_count": 219
        }
      ]
    },
    {
      "cell_type": "code",
      "metadata": {
        "id": "wq-lqrVFlO8M"
      },
      "source": [
        "cal = df.groupby(['month'])['kilojoules'].sum()\n",
        "cal.rename(index={2: 'Fevereiro', 3: 'Março', 4: 'Abril', 5: 'Maio', 6: 'Junho', 7:'Julho', 8: 'Agosto', 1:'Janeiro'}, inplace = True)\n"
      ],
      "execution_count": null,
      "outputs": []
    },
    {
      "cell_type": "markdown",
      "metadata": {
        "id": "xg8DU-zXnbcu"
      },
      "source": [
        "## Calorias gastas por mês."
      ]
    },
    {
      "cell_type": "code",
      "metadata": {
        "colab": {
          "base_uri": "https://localhost:8080/",
          "height": 279
        },
        "id": "cOAyNo-QHIte",
        "outputId": "3bd74f1e-2a1c-4d08-fd72-7fafe107a0d9"
      },
      "source": [
        "cal.plot(kind='bar', rot=0);"
      ],
      "execution_count": null,
      "outputs": [
        {
          "output_type": "display_data",
          "data": {
            "image/png": "[encoded data removed]",
            "text/plain": [
              "<Figure size 432x288 with 1 Axes>"
            ]
          },
          "metadata": {
            "tags": [],
            "needs_background": "light"
          }
        }
      ]
    },
    {
      "cell_type": "markdown",
      "metadata": {
        "id": "sagU5F2ZniGu"
      },
      "source": [
        "## Analisando se há correlação entre variáveis."
      ]
    },
    {
      "cell_type": "code",
      "metadata": {
        "colab": {
          "base_uri": "https://localhost:8080/",
          "height": 577
        },
        "id": "KeY6lgUVKVLD",
        "outputId": "cd391be4-a233-40fb-cde2-e5a0f004ff59"
      },
      "source": [
        "df.corr() "
      ],
      "execution_count": null,
      "outputs": [
        {
          "output_type": "execute_result",
          "data": {
            "text/html": [
              "<div>\n",
              "<style scoped>\n",
              "    .dataframe tbody tr th:only-of-type {\n",
              "        vertical-align: middle;\n",
              "    }\n",
              "\n",
              "    .dataframe tbody tr th {\n",
              "        vertical-align: top;\n",
              "    }\n",
              "\n",
              "    .dataframe thead th {\n",
              "        text-align: right;\n",
              "    }\n",
              "</style>\n",
              "<table border=\"1\" class=\"dataframe\">\n",
              "  <thead>\n",
              "    <tr style=\"text-align: right;\">\n",
              "      <th></th>\n",
              "      <th>Unnamed: 0</th>\n",
              "      <th>id</th>\n",
              "      <th>distance</th>\n",
              "      <th>total_elevation_gain</th>\n",
              "      <th>start_latitude</th>\n",
              "      <th>kilojoules</th>\n",
              "      <th>start_longitude</th>\n",
              "      <th>average_heartrate</th>\n",
              "      <th>max_heartrate</th>\n",
              "      <th>elev_high</th>\n",
              "      <th>elev_low</th>\n",
              "      <th>average_speed</th>\n",
              "      <th>max_speed</th>\n",
              "      <th>month</th>\n",
              "      <th>day</th>\n",
              "      <th>hour</th>\n",
              "    </tr>\n",
              "  </thead>\n",
              "  <tbody>\n",
              "    <tr>\n",
              "      <th>Unnamed: 0</th>\n",
              "      <td>1.000000</td>\n",
              "      <td>-0.887020</td>\n",
              "      <td>0.022332</td>\n",
              "      <td>0.028398</td>\n",
              "      <td>-0.126948</td>\n",
              "      <td>0.030385</td>\n",
              "      <td>-0.105936</td>\n",
              "      <td>NaN</td>\n",
              "      <td>NaN</td>\n",
              "      <td>0.061702</td>\n",
              "      <td>0.066508</td>\n",
              "      <td>-0.063701</td>\n",
              "      <td>0.066889</td>\n",
              "      <td>0.045454</td>\n",
              "      <td>0.074519</td>\n",
              "      <td>-0.030806</td>\n",
              "    </tr>\n",
              "    <tr>\n",
              "      <th>id</th>\n",
              "      <td>-0.887020</td>\n",
              "      <td>1.000000</td>\n",
              "      <td>-0.094910</td>\n",
              "      <td>-0.101578</td>\n",
              "      <td>0.063225</td>\n",
              "      <td>-0.086281</td>\n",
              "      <td>0.030414</td>\n",
              "      <td>NaN</td>\n",
              "      <td>NaN</td>\n",
              "      <td>0.035460</td>\n",
              "      <td>0.022407</td>\n",
              "      <td>-0.079730</td>\n",
              "      <td>-0.137624</td>\n",
              "      <td>-0.487744</td>\n",
              "      <td>0.058371</td>\n",
              "      <td>0.128144</td>\n",
              "    </tr>\n",
              "    <tr>\n",
              "      <th>distance</th>\n",
              "      <td>0.022332</td>\n",
              "      <td>-0.094910</td>\n",
              "      <td>1.000000</td>\n",
              "      <td>0.937945</td>\n",
              "      <td>0.155776</td>\n",
              "      <td>0.723352</td>\n",
              "      <td>0.135401</td>\n",
              "      <td>NaN</td>\n",
              "      <td>NaN</td>\n",
              "      <td>0.145536</td>\n",
              "      <td>-0.154358</td>\n",
              "      <td>0.450059</td>\n",
              "      <td>0.175588</td>\n",
              "      <td>0.186211</td>\n",
              "      <td>0.066591</td>\n",
              "      <td>0.010676</td>\n",
              "    </tr>\n",
              "    <tr>\n",
              "      <th>total_elevation_gain</th>\n",
              "      <td>0.028398</td>\n",
              "      <td>-0.101578</td>\n",
              "      <td>0.937945</td>\n",
              "      <td>1.000000</td>\n",
              "      <td>0.054218</td>\n",
              "      <td>0.716168</td>\n",
              "      <td>0.035209</td>\n",
              "      <td>NaN</td>\n",
              "      <td>NaN</td>\n",
              "      <td>0.273053</td>\n",
              "      <td>-0.060466</td>\n",
              "      <td>0.444335</td>\n",
              "      <td>0.333538</td>\n",
              "      <td>0.177558</td>\n",
              "      <td>0.096959</td>\n",
              "      <td>0.038111</td>\n",
              "    </tr>\n",
              "    <tr>\n",
              "      <th>start_latitude</th>\n",
              "      <td>-0.126948</td>\n",
              "      <td>0.063225</td>\n",
              "      <td>0.155776</td>\n",
              "      <td>0.054218</td>\n",
              "      <td>1.000000</td>\n",
              "      <td>0.063610</td>\n",
              "      <td>0.993862</td>\n",
              "      <td>NaN</td>\n",
              "      <td>NaN</td>\n",
              "      <td>-0.888889</td>\n",
              "      <td>-0.975168</td>\n",
              "      <td>-0.040255</td>\n",
              "      <td>-0.208926</td>\n",
              "      <td>0.092431</td>\n",
              "      <td>-0.020061</td>\n",
              "      <td>-0.002293</td>\n",
              "    </tr>\n",
              "    <tr>\n",
              "      <th>kilojoules</th>\n",
              "      <td>0.030385</td>\n",
              "      <td>-0.086281</td>\n",
              "      <td>0.723352</td>\n",
              "      <td>0.716168</td>\n",
              "      <td>0.063610</td>\n",
              "      <td>1.000000</td>\n",
              "      <td>0.045701</td>\n",
              "      <td>NaN</td>\n",
              "      <td>NaN</td>\n",
              "      <td>0.178656</td>\n",
              "      <td>-0.060643</td>\n",
              "      <td>-0.085906</td>\n",
              "      <td>0.244344</td>\n",
              "      <td>0.160452</td>\n",
              "      <td>-0.071289</td>\n",
              "      <td>-0.039321</td>\n",
              "    </tr>\n",
              "    <tr>\n",
              "      <th>start_longitude</th>\n",
              "      <td>-0.105936</td>\n",
              "      <td>0.030414</td>\n",
              "      <td>0.135401</td>\n",
              "      <td>0.035209</td>\n",
              "      <td>0.993862</td>\n",
              "      <td>0.045701</td>\n",
              "      <td>1.000000</td>\n",
              "      <td>NaN</td>\n",
              "      <td>NaN</td>\n",
              "      <td>-0.912854</td>\n",
              "      <td>-0.985604</td>\n",
              "      <td>-0.027447</td>\n",
              "      <td>-0.188670</td>\n",
              "      <td>0.127788</td>\n",
              "      <td>-0.033951</td>\n",
              "      <td>-0.034254</td>\n",
              "    </tr>\n",
              "    <tr>\n",
              "      <th>average_heartrate</th>\n",
              "      <td>NaN</td>\n",
              "      <td>NaN</td>\n",
              "      <td>NaN</td>\n",
              "      <td>NaN</td>\n",
              "      <td>NaN</td>\n",
              "      <td>NaN</td>\n",
              "      <td>NaN</td>\n",
              "      <td>NaN</td>\n",
              "      <td>NaN</td>\n",
              "      <td>NaN</td>\n",
              "      <td>NaN</td>\n",
              "      <td>NaN</td>\n",
              "      <td>NaN</td>\n",
              "      <td>NaN</td>\n",
              "      <td>NaN</td>\n",
              "      <td>NaN</td>\n",
              "    </tr>\n",
              "    <tr>\n",
              "      <th>max_heartrate</th>\n",
              "      <td>NaN</td>\n",
              "      <td>NaN</td>\n",
              "      <td>NaN</td>\n",
              "      <td>NaN</td>\n",
              "      <td>NaN</td>\n",
              "      <td>NaN</td>\n",
              "      <td>NaN</td>\n",
              "      <td>NaN</td>\n",
              "      <td>NaN</td>\n",
              "      <td>NaN</td>\n",
              "      <td>NaN</td>\n",
              "      <td>NaN</td>\n",
              "      <td>NaN</td>\n",
              "      <td>NaN</td>\n",
              "      <td>NaN</td>\n",
              "      <td>NaN</td>\n",
              "    </tr>\n",
              "    <tr>\n",
              "      <th>elev_high</th>\n",
              "      <td>0.061702</td>\n",
              "      <td>0.035460</td>\n",
              "      <td>0.145536</td>\n",
              "      <td>0.273053</td>\n",
              "      <td>-0.888889</td>\n",
              "      <td>0.178656</td>\n",
              "      <td>-0.912854</td>\n",
              "      <td>NaN</td>\n",
              "      <td>NaN</td>\n",
              "      <td>1.000000</td>\n",
              "      <td>0.913577</td>\n",
              "      <td>0.151616</td>\n",
              "      <td>0.227639</td>\n",
              "      <td>-0.196020</td>\n",
              "      <td>0.106326</td>\n",
              "      <td>0.087508</td>\n",
              "    </tr>\n",
              "    <tr>\n",
              "      <th>elev_low</th>\n",
              "      <td>0.066508</td>\n",
              "      <td>0.022407</td>\n",
              "      <td>-0.154358</td>\n",
              "      <td>-0.060466</td>\n",
              "      <td>-0.975168</td>\n",
              "      <td>-0.060643</td>\n",
              "      <td>-0.985604</td>\n",
              "      <td>NaN</td>\n",
              "      <td>NaN</td>\n",
              "      <td>0.913577</td>\n",
              "      <td>1.000000</td>\n",
              "      <td>-0.010124</td>\n",
              "      <td>0.146514</td>\n",
              "      <td>-0.174437</td>\n",
              "      <td>0.048994</td>\n",
              "      <td>0.028869</td>\n",
              "    </tr>\n",
              "    <tr>\n",
              "      <th>average_speed</th>\n",
              "      <td>-0.063701</td>\n",
              "      <td>-0.079730</td>\n",
              "      <td>0.450059</td>\n",
              "      <td>0.444335</td>\n",
              "      <td>-0.040255</td>\n",
              "      <td>-0.085906</td>\n",
              "      <td>-0.027447</td>\n",
              "      <td>NaN</td>\n",
              "      <td>NaN</td>\n",
              "      <td>0.151616</td>\n",
              "      <td>-0.010124</td>\n",
              "      <td>1.000000</td>\n",
              "      <td>0.081959</td>\n",
              "      <td>0.281556</td>\n",
              "      <td>0.080963</td>\n",
              "      <td>-0.067861</td>\n",
              "    </tr>\n",
              "    <tr>\n",
              "      <th>max_speed</th>\n",
              "      <td>0.066889</td>\n",
              "      <td>-0.137624</td>\n",
              "      <td>0.175588</td>\n",
              "      <td>0.333538</td>\n",
              "      <td>-0.208926</td>\n",
              "      <td>0.244344</td>\n",
              "      <td>-0.188670</td>\n",
              "      <td>NaN</td>\n",
              "      <td>NaN</td>\n",
              "      <td>0.227639</td>\n",
              "      <td>0.146514</td>\n",
              "      <td>0.081959</td>\n",
              "      <td>1.000000</td>\n",
              "      <td>0.196726</td>\n",
              "      <td>-0.121222</td>\n",
              "      <td>-0.241165</td>\n",
              "    </tr>\n",
              "    <tr>\n",
              "      <th>month</th>\n",
              "      <td>0.045454</td>\n",
              "      <td>-0.487744</td>\n",
              "      <td>0.186211</td>\n",
              "      <td>0.177558</td>\n",
              "      <td>0.092431</td>\n",
              "      <td>0.160452</td>\n",
              "      <td>0.127788</td>\n",
              "      <td>NaN</td>\n",
              "      <td>NaN</td>\n",
              "      <td>-0.196020</td>\n",
              "      <td>-0.174437</td>\n",
              "      <td>0.281556</td>\n",
              "      <td>0.196726</td>\n",
              "      <td>1.000000</td>\n",
              "      <td>-0.388721</td>\n",
              "      <td>-0.246412</td>\n",
              "    </tr>\n",
              "    <tr>\n",
              "      <th>day</th>\n",
              "      <td>0.074519</td>\n",
              "      <td>0.058371</td>\n",
              "      <td>0.066591</td>\n",
              "      <td>0.096959</td>\n",
              "      <td>-0.020061</td>\n",
              "      <td>-0.071289</td>\n",
              "      <td>-0.033951</td>\n",
              "      <td>NaN</td>\n",
              "      <td>NaN</td>\n",
              "      <td>0.106326</td>\n",
              "      <td>0.048994</td>\n",
              "      <td>0.080963</td>\n",
              "      <td>-0.121222</td>\n",
              "      <td>-0.388721</td>\n",
              "      <td>1.000000</td>\n",
              "      <td>0.216011</td>\n",
              "    </tr>\n",
              "    <tr>\n",
              "      <th>hour</th>\n",
              "      <td>-0.030806</td>\n",
              "      <td>0.128144</td>\n",
              "      <td>0.010676</td>\n",
              "      <td>0.038111</td>\n",
              "      <td>-0.002293</td>\n",
              "      <td>-0.039321</td>\n",
              "      <td>-0.034254</td>\n",
              "      <td>NaN</td>\n",
              "      <td>NaN</td>\n",
              "      <td>0.087508</td>\n",
              "      <td>0.028869</td>\n",
              "      <td>-0.067861</td>\n",
              "      <td>-0.241165</td>\n",
              "      <td>-0.246412</td>\n",
              "      <td>0.216011</td>\n",
              "      <td>1.000000</td>\n",
              "    </tr>\n",
              "  </tbody>\n",
              "</table>\n",
              "</div>"
            ],
            "text/plain": [
              "                      Unnamed: 0        id  ...       day      hour\n",
              "Unnamed: 0              1.000000 -0.887020  ...  0.074519 -0.030806\n",
              "id                     -0.887020  1.000000  ...  0.058371  0.128144\n",
              "distance                0.022332 -0.094910  ...  0.066591  0.010676\n",
              "total_elevation_gain    0.028398 -0.101578  ...  0.096959  0.038111\n",
              "start_latitude         -0.126948  0.063225  ... -0.020061 -0.002293\n",
              "kilojoules              0.030385 -0.086281  ... -0.071289 -0.039321\n",
              "start_longitude        -0.105936  0.030414  ... -0.033951 -0.034254\n",
              "average_heartrate            NaN       NaN  ...       NaN       NaN\n",
              "max_heartrate                NaN       NaN  ...       NaN       NaN\n",
              "elev_high               0.061702  0.035460  ...  0.106326  0.087508\n",
              "elev_low                0.066508  0.022407  ...  0.048994  0.028869\n",
              "average_speed          -0.063701 -0.079730  ...  0.080963 -0.067861\n",
              "max_speed               0.066889 -0.137624  ... -0.121222 -0.241165\n",
              "month                   0.045454 -0.487744  ... -0.388721 -0.246412\n",
              "day                     0.074519  0.058371  ...  1.000000  0.216011\n",
              "hour                   -0.030806  0.128144  ...  0.216011  1.000000\n",
              "\n",
              "[16 rows x 16 columns]"
            ]
          },
          "metadata": {
            "tags": []
          },
          "execution_count": 244
        }
      ]
    },
    {
      "cell_type": "markdown",
      "metadata": {
        "id": "iuvRDci7nmpY"
      },
      "source": [
        "## Existe relação entre a distância pedalada e as calorias gastas?"
      ]
    },
    {
      "cell_type": "code",
      "metadata": {
        "colab": {
          "base_uri": "https://localhost:8080/",
          "height": 296
        },
        "id": "OqY9zqTyHnHM",
        "outputId": "b191bcae-8c53-440f-cd11-541bbedd41e7"
      },
      "source": [
        "df.plot.scatter(x = 'distance', y = 'kilojoules', s=30); \n",
        "corr_dis_k = df['distance'].corr(df['kilojoules'])\n",
        "print(f'A correlação entre calorias gastas e distância é igual a {corr_dis_k:.3f}.')"
      ],
      "execution_count": null,
      "outputs": [
        {
          "output_type": "stream",
          "text": [
            "Correlação entre calorias gastas e distância é igual a 0.723.\n"
          ],
          "name": "stdout"
        },
        {
          "output_type": "display_data",
          "data": {
            "image/png": "[encoded data removed]",
            "text/plain": [
              "<Figure size 432x288 with 1 Axes>"
            ]
          },
          "metadata": {
            "tags": [],
            "needs_background": "light"
          }
        }
      ]
    },
    {
      "cell_type": "markdown",
      "metadata": {
        "id": "DXgwfhXQnsTm"
      },
      "source": [
        "## Existe relação entre a elevação do terreno e as calorias gastas?"
      ]
    },
    {
      "cell_type": "code",
      "metadata": {
        "colab": {
          "base_uri": "https://localhost:8080/",
          "height": 297
        },
        "id": "FcPRSaWoMIJS",
        "outputId": "a1106825-12b2-4a6c-df4b-934b81d8fe93"
      },
      "source": [
        "df.plot.scatter(x = 'total_elevation_gain', y = 'kilojoules', s=30); #Existe relação entre o ganho de elevação (subidas) e as calorias gastas?\n",
        "corr_teg_k = df['total_elevation_gain'].corr(df['kilojoules'])\n",
        "print(f'A correlação entre calorias gastas e subidas é igual a {corr_teg_k:.3f}.')"
      ],
      "execution_count": null,
      "outputs": [
        {
          "output_type": "stream",
          "text": [
            "A correlação entre calorias gastas e subidas é igual a 0.716.\n"
          ],
          "name": "stdout"
        },
        {
          "output_type": "display_data",
          "data": {
            "image/png": "[encoded data removed]",
            "text/plain": [
              "<Figure size 432x288 with 1 Axes>"
            ]
          },
          "metadata": {
            "tags": [],
            "needs_background": "light"
          }
        }
      ]
    },
    {
      "cell_type": "markdown",
      "metadata": {
        "id": "GTA1c4gRnxPf"
      },
      "source": [
        "## Média das velocidades médias."
      ]
    },
    {
      "cell_type": "code",
      "metadata": {
        "colab": {
          "base_uri": "https://localhost:8080/"
        },
        "id": "POulDGeWGTP7",
        "outputId": "0c38e960-6ced-4f2e-a7be-136b9075e84a"
      },
      "source": [
        "round(df['average_speed'].mean()) "
      ],
      "execution_count": null,
      "outputs": [
        {
          "output_type": "execute_result",
          "data": {
            "text/plain": [
              "3"
            ]
          },
          "metadata": {
            "tags": []
          },
          "execution_count": 262
        }
      ]
    }
  ]
}